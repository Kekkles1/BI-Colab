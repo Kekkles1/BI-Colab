{
  "nbformat": 4,
  "nbformat_minor": 0,
  "metadata": {
    "colab": {
      "provenance": [],
      "authorship_tag": "ABX9TyP9r1QMVUgLjEClKx9LPX+p",
      "include_colab_link": true
    },
    "kernelspec": {
      "name": "python3",
      "display_name": "Python 3"
    },
    "language_info": {
      "name": "python"
    }
  },
  "cells": [
    {
      "cell_type": "markdown",
      "metadata": {
        "id": "view-in-github",
        "colab_type": "text"
      },
      "source": [
        "<a href=\"https://colab.research.google.com/github/Kekkles1/BI-Colab/blob/fatima/BI%20Assignment.ipynb\" target=\"_parent\"><img src=\"https://colab.research.google.com/assets/colab-badge.svg\" alt=\"Open In Colab\"/></a>"
      ]
    },
    {
      "cell_type": "markdown",
      "source": [
        "# 1) Understanding the Data\n",
        "\n",
        "**Business Understanding:**\n",
        "The business has two hotels: Resort Hotel and City Hotel. The main business process is booking the hotels. From a business perspective, the hotel wants to maximize its bookings to maximize revenue. From a BI perspective, we want to understand\n",
        "\n",
        "The data provides key metrics regarding customers, booking patterns. For the customers category, there is data regarding their age, location and market segmentation. This will allow a deep profile of the customers to be built. For booking patterns, we can observe the lead_time, cancellation tendencies, room types and so forth."
      ],
      "metadata": {
        "id": "1N5gV7_HHDeo"
      }
    },
    {
      "cell_type": "markdown",
      "source": [
        "**Problem Statement:**\n",
        "\n",
        "\n",
        "**Queries:**\n",
        "what gets u most customers (which distribution channel). Use market segment as proof.\n",
        "Retention (is_repeated_guest)\n"
      ],
      "metadata": {
        "id": "MWTq8jAuHZHy"
      }
    },
    {
      "cell_type": "markdown",
      "source": [
        "**Columns to Delete**"
      ],
      "metadata": {
        "id": "jyq-C8OmHZqJ"
      }
    },
    {
      "cell_type": "markdown",
      "source": [
        "**Dimensions and Facts Within the Data**"
      ],
      "metadata": {
        "id": "qt9_GTlYHbZ4"
      }
    },
    {
      "cell_type": "markdown",
      "source": [
        "**Important Facts and Dimensions**\n",
        "\n"
      ],
      "metadata": {
        "id": "7Opl-nmCHczR"
      }
    },
    {
      "cell_type": "markdown",
      "source": [
        "**Proof**"
      ],
      "metadata": {
        "id": "waJGUZ7sHgnp"
      }
    }
  ]
}