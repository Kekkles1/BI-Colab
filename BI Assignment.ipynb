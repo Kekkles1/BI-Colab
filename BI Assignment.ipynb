{
  "nbformat": 4,
  "nbformat_minor": 0,
  "metadata": {
    "colab": {
      "provenance": [],
      "include_colab_link": true
    },
    "kernelspec": {
      "name": "python3",
      "display_name": "Python 3"
    },
    "language_info": {
      "name": "python"
    }
  },
  "cells": [
    {
      "cell_type": "markdown",
      "metadata": {
        "id": "view-in-github",
        "colab_type": "text"
      },
      "source": [
        "<a href=\"https://colab.research.google.com/github/Kekkles1/BI-Colab/blob/fatima/BI%20Assignment.ipynb\" target=\"_parent\"><img src=\"https://colab.research.google.com/assets/colab-badge.svg\" alt=\"Open In Colab\"/></a>"
      ]
    },
    {
      "cell_type": "markdown",
      "source": [
        "# 1) Understanding the Data\n",
        "\n",
        "**Business Understanding:**\n",
        "The business has two hotels: Resort Hotel and City Hotel. The main business process is booking the hotels. From a business perspective, the hotel wants to maximize its bookings to maximize revenue. From a BI perspective, we want to understand\n",
        "\n",
        "The data provides key metrics regarding customers, booking patterns. For the customers category, there is data regarding their age, location and market segmentation. This will allow a deep profile of the customers to be built. For booking patterns, we can observe the lead_time, cancellation tendencies, room types and so forth."
      ],
      "metadata": {
        "id": "1N5gV7_HHDeo"
      }
    },
    {
      "cell_type": "markdown",
      "source": [
        "**Problem Statement:**\n",
        "How many customers is the business retaining? What are the types of customers they're retaining (demographic, room-bookings). How can the business improve its retention rate?\n",
        "\n",
        "**Queries:**\n",
        "what gets u most customers (which distribution channel). Use market segment as proof.\n",
        "Find the number of repeat guests\n"
      ],
      "metadata": {
        "id": "MWTq8jAuHZHy"
      }
    },
    {
      "cell_type": "markdown",
      "source": [
        "**Columns to Delete**\n",
        "arrival_date columns, required_car_parking_spaces"
      ],
      "metadata": {
        "id": "jyq-C8OmHZqJ"
      }
    },
    {
      "cell_type": "markdown",
      "source": [
        "**Dimensions and Facts Within the Data**\n",
        "\n",
        "**Dimensions:**\n",
        "*   Hotel\n",
        "*   Is Cancelled\n",
        "*   Arrival dates\n",
        "*   Meal\n",
        "*   Country\n",
        "*   Market Segment\n",
        "*   Distribution Channel\n",
        "*   Reserved Room Type\n",
        "*   Assigned Room Type\n",
        "*   Is Repeated Guest\n",
        "*   Previous Cancellations\n",
        "*   Company\n",
        "*   Agent\n",
        "*   Deposit Type\n",
        "*   Customer Type\n",
        "*   Reservation Status\n",
        "\n",
        "\n",
        "**Facts:**\n",
        "\n",
        "\n",
        "*   Lead Time\n",
        "*   Stays in weekends & nights\n",
        "*   Adults\n",
        "*   Children\n",
        "*   Babies\n",
        "*   Booking Changes\n",
        "*   Days in Waiting List\n",
        "*   ADR\n",
        "*   Required car parking spaces\n",
        "*   Total of special requests\n",
        "\n",
        "\n",
        "\n",
        "\n",
        "\n",
        "\n",
        "\n",
        "\n",
        "\n",
        "\n"
      ],
      "metadata": {
        "id": "qt9_GTlYHbZ4"
      }
    },
    {
      "cell_type": "markdown",
      "source": [
        "**Important Facts and Dimensions**\n",
        "\n",
        "The important facts are: ADR, Adults, Children, Babies and Lead Time.\n",
        "\n",
        "The important dimensions are: Hotel, Country, Customer Type, Is Repeated Guest, Market Segment, Distribution Channel and Arrival Dates (Time).\n"
      ],
      "metadata": {
        "id": "7Opl-nmCHczR"
      }
    },
    {
      "cell_type": "markdown",
      "source": [
        "**Proof**\n",
        "Yes, the Is Repeated Guest column can solve our given problem statement as we can use it to figure out how many of the hotels customers are new or repeat guests."
      ],
      "metadata": {
        "id": "waJGUZ7sHgnp"
      }
    },
    {
      "cell_type": "markdown",
      "source": [
        "# Descriptive Statistics"
      ],
      "metadata": {
        "id": "wnu7wC3wdEvm"
      }
    }
  ]
}